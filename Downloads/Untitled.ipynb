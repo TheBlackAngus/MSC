{
 "cells": [
  {
   "cell_type": "code",
   "execution_count": 5,
   "id": "7e5a2dac-ed63-4a3a-acfc-29d6ba1af4fd",
   "metadata": {},
   "outputs": [],
   "source": [
    "import streamlit as st\n",
    "import pandas as pd\n",
    "import numpy as np\n",
    "import matplotlib.pyplot as plt"
   ]
  },
  {
   "cell_type": "code",
   "execution_count": 6,
   "id": "35f5d576-3bb0-4e4a-b4d3-d6749ea78cf2",
   "metadata": {},
   "outputs": [],
   "source": [
    "def create_table():\n",
    "    data = {'a': [st.number_input(f'Input value for a (row {i+1})', min_value=0.0, value=1.0) for i in range(3)],\n",
    "            'b': [st.number_input(f'Input value for b (row {i+1})', min_value=0.0, value=1.0) for i in range(3)]}\n",
    "    \n",
    "    df = pd.DataFrame(data)\n",
    "    df['c'] = np.log(df['a'] + df['b'])  # Column 'c': log(a + b)\n",
    "    df['d'] = df['c'] ** 2  # Column 'd': square of 'c'\n",
    "    \n",
    "    return df"
   ]
  },
  {
   "cell_type": "code",
   "execution_count": 7,
   "id": "1bb74f48-877b-4e3e-b064-8ef3386d355e",
   "metadata": {},
   "outputs": [
    {
     "name": "stderr",
     "output_type": "stream",
     "text": [
      "2024-11-14 19:33:14.677 WARNING streamlit.runtime.state.session_state_proxy: Session state does not function when running a script without `streamlit run`\n",
      "2024-11-14 19:33:15.036 \n",
      "  \u001b[33m\u001b[1mWarning:\u001b[0m to view this Streamlit app on a browser, run it with the following\n",
      "  command:\n",
      "\n",
      "    streamlit run C:\\Users\\iamth\\anaconda3\\Lib\\site-packages\\ipykernel_launcher.py [ARGUMENTS]\n"
     ]
    }
   ],
   "source": [
    "df = create_table()\n",
    "st.write(\"Interactive Table with Calculations:\", df)"
   ]
  },
  {
   "cell_type": "code",
   "execution_count": 9,
   "id": "72b31920-ab4b-4007-94c2-e101ef690cd7",
   "metadata": {},
   "outputs": [
    {
     "data": {
      "text/plain": [
       "DeltaGenerator()"
      ]
     },
     "execution_count": 9,
     "metadata": {},
     "output_type": "execute_result"
    }
   ],
   "source": [
    "fig, ax = plt.subplots()\n",
    "ax.plot(df['a'], df['c'], label='Log(a + b)', marker='o')\n",
    "ax.plot(df['a'], df['d'], label='Square of c', marker='x')\n",
    "ax.set_xlabel('a')\n",
    "ax.set_ylabel('Calculated Values')\n",
    "ax.set_title('Plot Based on Inputs')\n",
    "ax.legend()\n",
    "\n",
    "st.pyplot(fig)"
   ]
  },
  {
   "cell_type": "code",
   "execution_count": 10,
   "id": "f6e6f794-fc0c-48ba-8bf1-855108cf2a32",
   "metadata": {},
   "outputs": [
    {
     "ename": "SyntaxError",
     "evalue": "invalid syntax (436548975.py, line 1)",
     "output_type": "error",
     "traceback": [
      "\u001b[1;36m  Cell \u001b[1;32mIn[10], line 1\u001b[1;36m\u001b[0m\n\u001b[1;33m    streamlit run interactive_table.py\u001b[0m\n\u001b[1;37m              ^\u001b[0m\n\u001b[1;31mSyntaxError\u001b[0m\u001b[1;31m:\u001b[0m invalid syntax\n"
     ]
    }
   ],
   "source": [
    "streamlit run interactive_table.py"
   ]
  }
 ],
 "metadata": {
  "kernelspec": {
   "display_name": "Python 3 (ipykernel)",
   "language": "python",
   "name": "python3"
  },
  "language_info": {
   "codemirror_mode": {
    "name": "ipython",
    "version": 3
   },
   "file_extension": ".py",
   "mimetype": "text/x-python",
   "name": "python",
   "nbconvert_exporter": "python",
   "pygments_lexer": "ipython3",
   "version": "3.12.3"
  }
 },
 "nbformat": 4,
 "nbformat_minor": 5
}
